{
 "cells": [
  {
   "cell_type": "code",
   "execution_count": 83,
   "id": "shaped-worthy",
   "metadata": {},
   "outputs": [
    {
     "name": "stdout",
     "output_type": "stream",
     "text": [
      "The autoreload extension is already loaded. To reload it, use:\n",
      "  %reload_ext autoreload\n"
     ]
    }
   ],
   "source": [
    "%load_ext autoreload\n",
    "%autoreload 2"
   ]
  },
  {
   "cell_type": "code",
   "execution_count": 84,
   "id": "brown-footwear",
   "metadata": {},
   "outputs": [],
   "source": [
    "import pandas as pd\n",
    "import numpy as np\n",
    "from mlfaker.generators import BaseGenerator, NormalGenerator, CategoricalGenerator"
   ]
  },
  {
   "cell_type": "code",
   "execution_count": 85,
   "id": "brilliant-conviction",
   "metadata": {},
   "outputs": [
    {
     "data": {
      "text/plain": [
       "0    1.624345\n",
       "1   -0.611756\n",
       "2   -0.528172\n",
       "3   -1.072969\n",
       "4    0.865408\n",
       "5   -2.301539\n",
       "6    1.744812\n",
       "7   -0.761207\n",
       "8    0.319039\n",
       "9   -0.249370\n",
       "Name: blah, dtype: float64"
      ]
     },
     "execution_count": 85,
     "metadata": {},
     "output_type": "execute_result"
    }
   ],
   "source": [
    "g = BaseGenerator(data_name=\"blah\")\n",
    "g.set_generator(\"normal\", loc=0, scale=1)\n",
    "g.generate(10)"
   ]
  },
  {
   "cell_type": "code",
   "execution_count": 86,
   "id": "unnecessary-steering",
   "metadata": {},
   "outputs": [
    {
     "data": {
      "text/plain": [
       "0    1.624345\n",
       "1   -0.611756\n",
       "2   -0.528172\n",
       "3   -1.072969\n",
       "4    0.865408\n",
       "5   -2.301539\n",
       "6    1.744812\n",
       "7   -0.761207\n",
       "8    0.319039\n",
       "9   -0.249370\n",
       "Name: blah, dtype: float64"
      ]
     },
     "execution_count": 86,
     "metadata": {},
     "output_type": "execute_result"
    }
   ],
   "source": [
    "g = NormalGenerator(data_name=\"blah\")\n",
    "g.generate(10)"
   ]
  },
  {
   "cell_type": "code",
   "execution_count": 87,
   "id": "passive-cookbook",
   "metadata": {},
   "outputs": [
    {
     "data": {
      "text/plain": [
       "0    dog\n",
       "1    dog\n",
       "2    cat\n",
       "3    cat\n",
       "4    dog\n",
       "5    dog\n",
       "6    dog\n",
       "7    dog\n",
       "8    dog\n",
       "9    cat\n",
       "Name: blah, dtype: object"
      ]
     },
     "execution_count": 87,
     "metadata": {},
     "output_type": "execute_result"
    }
   ],
   "source": [
    "g = CategoricalGenerator(data_name=\"blah\", classes=[\"cat\", \"dog\"])\n",
    "g.generate(10)"
   ]
  },
  {
   "cell_type": "code",
   "execution_count": null,
   "id": "faced-democracy",
   "metadata": {},
   "outputs": [],
   "source": []
  }
 ],
 "metadata": {
  "kernelspec": {
   "display_name": "Python 3",
   "language": "python",
   "name": "python3"
  },
  "language_info": {
   "codemirror_mode": {
    "name": "ipython",
    "version": 3
   },
   "file_extension": ".py",
   "mimetype": "text/x-python",
   "name": "python",
   "nbconvert_exporter": "python",
   "pygments_lexer": "ipython3",
   "version": "3.8.5"
  }
 },
 "nbformat": 4,
 "nbformat_minor": 5
}
