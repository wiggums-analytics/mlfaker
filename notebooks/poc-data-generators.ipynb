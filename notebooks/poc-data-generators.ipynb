{
 "cells": [
  {
   "cell_type": "code",
   "execution_count": 44,
   "id": "indian-guess",
   "metadata": {},
   "outputs": [],
   "source": [
    "import pandas as pd\n",
    "import numpy as np\n",
    "from faker import Faker"
   ]
  },
  {
   "cell_type": "code",
   "execution_count": 45,
   "id": "portable-actor",
   "metadata": {},
   "outputs": [],
   "source": [
    "fake = Faker()"
   ]
  },
  {
   "cell_type": "code",
   "execution_count": 51,
   "id": "wanted-problem",
   "metadata": {},
   "outputs": [],
   "source": [
    "def _nuller(sr, fillrate):\n",
    "    if fillrate < 1:\n",
    "        sr.loc[sr.sample(frac=1-fillrate).index] = np.NaN\n",
    "    return sr\n",
    "    \n",
    "\n",
    "def numericalsr(length, name=fake.pystr(), mean=0, std=1, fillrate=1):\n",
    "    return _nuller(pd.Series(np.random.normal(mean, std, length), name=name), fillrate)\n",
    "\n",
    "def categoricalsr(length, name=fake.pystr(), classes=3, fillrate=1, rates=[1/3, 1/3, 1/3]):\n",
    "    if isinstance(classes, int):\n",
    "        fake = Faker()\n",
    "        classes = [fake.pystr(max_chars=5) for i in range(classes)]\n",
    "        rates=None\n",
    "    elif len(classes) != len(rates):\n",
    "        raise ValueError(\"The number of classes much match the rate array of probabilities\")\n",
    "    return _nuller(pd.Series(np.random.choice(classes, length), name=name), fillrate)"
   ]
  },
  {
   "cell_type": "code",
   "execution_count": 107,
   "id": "second-attention",
   "metadata": {},
   "outputs": [
    {
     "data": {
      "text/plain": [
       "0         NaN\n",
       "1    3.353741\n",
       "2         NaN\n",
       "3   -1.715854\n",
       "4         NaN\n",
       "5         NaN\n",
       "6    3.004630\n",
       "7         NaN\n",
       "8         NaN\n",
       "9         NaN\n",
       "Name: hello, dtype: float64"
      ]
     },
     "execution_count": 107,
     "metadata": {},
     "output_type": "execute_result"
    }
   ],
   "source": [
    "mysr1 = numericalsr(10, \"hello\", 0, 3, fillrate=0.3)\n",
    "mysr1"
   ]
  },
  {
   "cell_type": "code",
   "execution_count": 108,
   "id": "offensive-macintosh",
   "metadata": {},
   "outputs": [
    {
     "data": {
      "text/plain": [
       "0    foo\n",
       "1    bar\n",
       "2    bar\n",
       "3    bar\n",
       "4    bar\n",
       "5    bar\n",
       "6    bar\n",
       "7    bar\n",
       "8    bar\n",
       "9    foo\n",
       "Name: world, dtype: object"
      ]
     },
     "execution_count": 108,
     "metadata": {},
     "output_type": "execute_result"
    }
   ],
   "source": [
    "mysr2 = categoricalsr(10, \"world\", [\"foo\", \"bar\"])\n",
    "mysr2"
   ]
  },
  {
   "cell_type": "code",
   "execution_count": 151,
   "id": "prerequisite-republic",
   "metadata": {},
   "outputs": [],
   "source": [
    "def build_df(length, num_numeric=1, num_categoric=0, fillrate=1):\n",
    "    numericals = [numericalsr(name=f\"num_col_{i}\", length=length, fillrate=fillrate) for i in range(num_numeric)]\n",
    "    categoricals = [categoricalsr(name=f\"cat_col_{i}\", length=length, fillrate=fillrate) for i in range(num_categoric)]\n",
    "    columns = numericals + categoricals\n",
    "    np.random.shuffle(columns)\n",
    "    return pd.concat(columns , axis = 1)\n",
    "\n",
    "def build_specific_df(length = 5, numerical_cols=[\"foo\", \"bar\"], categorical_cols=[\"hello\"]):\n",
    "    numericals = [numericalsr(name=n, length=length) for n in numerical_cols]\n",
    "    categoricals = [categoricalsr(name=n, length=length) for n in categorical_cols]\n",
    "    columns = numericals + categoricals\n",
    "    np.random.shuffle(columns)\n",
    "    return pd.concat(columns , axis = 1)\n",
    "\n",
    "def build_explicit_df(columns, length):\n",
    "    data = [] \n",
    "    for c in columns:\n",
    "        if c[\"type\"] == \"numerical\":\n",
    "            d = numericalsr(length = length, name=c[\"name\"])\n",
    "        elif c[\"type\"] == \"categorical\":\n",
    "            d = categoricalsr(length = length, name=c[\"name\"])\n",
    "        else:\n",
    "            raise ValueError(\"Do not recognize type\")\n",
    "        data.append(d)\n",
    "    return pd.concat(data, axis=1)"
   ]
  },
  {
   "cell_type": "code",
   "execution_count": 152,
   "id": "rational-designer",
   "metadata": {},
   "outputs": [
    {
     "data": {
      "text/html": [
       "<div>\n",
       "<style scoped>\n",
       "    .dataframe tbody tr th:only-of-type {\n",
       "        vertical-align: middle;\n",
       "    }\n",
       "\n",
       "    .dataframe tbody tr th {\n",
       "        vertical-align: top;\n",
       "    }\n",
       "\n",
       "    .dataframe thead th {\n",
       "        text-align: right;\n",
       "    }\n",
       "</style>\n",
       "<table border=\"1\" class=\"dataframe\">\n",
       "  <thead>\n",
       "    <tr style=\"text-align: right;\">\n",
       "      <th></th>\n",
       "      <th>num_col_1</th>\n",
       "      <th>num_col_2</th>\n",
       "      <th>cat_col_0</th>\n",
       "      <th>num_col_0</th>\n",
       "    </tr>\n",
       "  </thead>\n",
       "  <tbody>\n",
       "    <tr>\n",
       "      <th>0</th>\n",
       "      <td>NaN</td>\n",
       "      <td>NaN</td>\n",
       "      <td>NaN</td>\n",
       "      <td>-0.435743</td>\n",
       "    </tr>\n",
       "    <tr>\n",
       "      <th>1</th>\n",
       "      <td>0.688378</td>\n",
       "      <td>NaN</td>\n",
       "      <td>dtfLg</td>\n",
       "      <td>NaN</td>\n",
       "    </tr>\n",
       "    <tr>\n",
       "      <th>2</th>\n",
       "      <td>NaN</td>\n",
       "      <td>-0.788613</td>\n",
       "      <td>gWuxm</td>\n",
       "      <td>NaN</td>\n",
       "    </tr>\n",
       "    <tr>\n",
       "      <th>3</th>\n",
       "      <td>-2.185066</td>\n",
       "      <td>NaN</td>\n",
       "      <td>NaN</td>\n",
       "      <td>NaN</td>\n",
       "    </tr>\n",
       "    <tr>\n",
       "      <th>4</th>\n",
       "      <td>NaN</td>\n",
       "      <td>0.208969</td>\n",
       "      <td>NaN</td>\n",
       "      <td>0.150107</td>\n",
       "    </tr>\n",
       "  </tbody>\n",
       "</table>\n",
       "</div>"
      ],
      "text/plain": [
       "   num_col_1  num_col_2 cat_col_0  num_col_0\n",
       "0        NaN        NaN       NaN  -0.435743\n",
       "1   0.688378        NaN     dtfLg        NaN\n",
       "2        NaN  -0.788613     gWuxm        NaN\n",
       "3  -2.185066        NaN       NaN        NaN\n",
       "4        NaN   0.208969       NaN   0.150107"
      ]
     },
     "execution_count": 152,
     "metadata": {},
     "output_type": "execute_result"
    }
   ],
   "source": [
    "df = build_df(5, 3, 1, fillrate=0.4)\n",
    "df"
   ]
  },
  {
   "cell_type": "code",
   "execution_count": 153,
   "id": "sophisticated-venezuela",
   "metadata": {},
   "outputs": [
    {
     "data": {
      "text/html": [
       "<div>\n",
       "<style scoped>\n",
       "    .dataframe tbody tr th:only-of-type {\n",
       "        vertical-align: middle;\n",
       "    }\n",
       "\n",
       "    .dataframe tbody tr th {\n",
       "        vertical-align: top;\n",
       "    }\n",
       "\n",
       "    .dataframe thead th {\n",
       "        text-align: right;\n",
       "    }\n",
       "</style>\n",
       "<table border=\"1\" class=\"dataframe\">\n",
       "  <thead>\n",
       "    <tr style=\"text-align: right;\">\n",
       "      <th></th>\n",
       "      <th>hello</th>\n",
       "      <th>foo</th>\n",
       "      <th>bar</th>\n",
       "    </tr>\n",
       "  </thead>\n",
       "  <tbody>\n",
       "    <tr>\n",
       "      <th>0</th>\n",
       "      <td>fGQTZ</td>\n",
       "      <td>1.844535</td>\n",
       "      <td>0.547812</td>\n",
       "    </tr>\n",
       "    <tr>\n",
       "      <th>1</th>\n",
       "      <td>VLmNQ</td>\n",
       "      <td>-0.115030</td>\n",
       "      <td>-0.323428</td>\n",
       "    </tr>\n",
       "    <tr>\n",
       "      <th>2</th>\n",
       "      <td>UuYIz</td>\n",
       "      <td>-1.027702</td>\n",
       "      <td>-0.559754</td>\n",
       "    </tr>\n",
       "    <tr>\n",
       "      <th>3</th>\n",
       "      <td>fGQTZ</td>\n",
       "      <td>-0.389888</td>\n",
       "      <td>0.853739</td>\n",
       "    </tr>\n",
       "    <tr>\n",
       "      <th>4</th>\n",
       "      <td>UuYIz</td>\n",
       "      <td>0.461028</td>\n",
       "      <td>0.422611</td>\n",
       "    </tr>\n",
       "  </tbody>\n",
       "</table>\n",
       "</div>"
      ],
      "text/plain": [
       "   hello       foo       bar\n",
       "0  fGQTZ  1.844535  0.547812\n",
       "1  VLmNQ -0.115030 -0.323428\n",
       "2  UuYIz -1.027702 -0.559754\n",
       "3  fGQTZ -0.389888  0.853739\n",
       "4  UuYIz  0.461028  0.422611"
      ]
     },
     "execution_count": 153,
     "metadata": {},
     "output_type": "execute_result"
    }
   ],
   "source": [
    "df = build_specific_df()\n",
    "df"
   ]
  },
  {
   "cell_type": "code",
   "execution_count": 154,
   "id": "arranged-martial",
   "metadata": {},
   "outputs": [
    {
     "data": {
      "text/html": [
       "<div>\n",
       "<style scoped>\n",
       "    .dataframe tbody tr th:only-of-type {\n",
       "        vertical-align: middle;\n",
       "    }\n",
       "\n",
       "    .dataframe tbody tr th {\n",
       "        vertical-align: top;\n",
       "    }\n",
       "\n",
       "    .dataframe thead th {\n",
       "        text-align: right;\n",
       "    }\n",
       "</style>\n",
       "<table border=\"1\" class=\"dataframe\">\n",
       "  <thead>\n",
       "    <tr style=\"text-align: right;\">\n",
       "      <th></th>\n",
       "      <th>hello</th>\n",
       "      <th>world</th>\n",
       "    </tr>\n",
       "  </thead>\n",
       "  <tbody>\n",
       "    <tr>\n",
       "      <th>0</th>\n",
       "      <td>-0.793243</td>\n",
       "      <td>DIHDT</td>\n",
       "    </tr>\n",
       "    <tr>\n",
       "      <th>1</th>\n",
       "      <td>-0.734836</td>\n",
       "      <td>NXukK</td>\n",
       "    </tr>\n",
       "    <tr>\n",
       "      <th>2</th>\n",
       "      <td>-2.112485</td>\n",
       "      <td>NXukK</td>\n",
       "    </tr>\n",
       "    <tr>\n",
       "      <th>3</th>\n",
       "      <td>0.395655</td>\n",
       "      <td>NXukK</td>\n",
       "    </tr>\n",
       "    <tr>\n",
       "      <th>4</th>\n",
       "      <td>-1.049983</td>\n",
       "      <td>DIHDT</td>\n",
       "    </tr>\n",
       "  </tbody>\n",
       "</table>\n",
       "</div>"
      ],
      "text/plain": [
       "      hello  world\n",
       "0 -0.793243  DIHDT\n",
       "1 -0.734836  NXukK\n",
       "2 -2.112485  NXukK\n",
       "3  0.395655  NXukK\n",
       "4 -1.049983  DIHDT"
      ]
     },
     "execution_count": 154,
     "metadata": {},
     "output_type": "execute_result"
    }
   ],
   "source": [
    "columns = [{\"type\": \"numerical\", \"name\": \"hello\"}, {\"type\": \"categorical\", \"name\": \"world\"}]\n",
    "length = 5\n",
    "df = build_explicit_df(columns, length)\n",
    "df"
   ]
  },
  {
   "cell_type": "markdown",
   "id": "local-integration",
   "metadata": {},
   "source": [
    "## As classes"
   ]
  },
  {
   "cell_type": "code",
   "execution_count": 145,
   "id": "solved-lodge",
   "metadata": {},
   "outputs": [],
   "source": [
    "class Base():\n",
    "    def __init__(self, name, fillrate):\n",
    "        self.name = name\n",
    "        self.fillrate = fillrate\n",
    "        self.value = None\n",
    "        \n",
    "    def _nuller(self, sr):\n",
    "        if self.fillrate < 1:\n",
    "            sr.loc[sr.sample(frac=1-self.fillrate).index] = np.NaN\n",
    "        return sr\n",
    "\n",
    "class Numerical(Base):\n",
    "    def __init__(self, name, fillrate=1, mu=0, sig=1):\n",
    "        super().__init__(name, fillrate)\n",
    "        self.mu = mu\n",
    "        self.sig = sig\n",
    "    \n",
    "    def generate(self, length):\n",
    "        self.value = self._nuller(pd.Series(np.random.normal(self.mu, self.sig, length), name=self.name))\n",
    "        return self._nuller(pd.Series(np.random.normal(self.mu, self.sig, length), name=self.name))\n",
    "    \n",
    "    def __mul__(self, other):\n",
    "        mult_values = self.generate(10) * self.generate(10)\n",
    "        nc = Base(name = f\"{self.name} + {other.name}\", fillrate=np.NaN)\n",
    "        nc.value = mult_values\n",
    "        nc.fillrate = nc.value.notna().mean()\n",
    "        return nc\n",
    "        \n",
    "    \n",
    "class Categorical(Base):\n",
    "    def __init__(self, name, classes, fillrate=1, rates=None):\n",
    "        super().__init__(name, fillrate)\n",
    "        if rates is not None and len(classes) != len(rates):\n",
    "            raise ValueError(\"The number of classes much match the rate array of probabilities\")\n",
    "        else:\n",
    "            self.rates=rates\n",
    "        self.classes = classes\n",
    "\n",
    "    def generate(self, length):\n",
    "        return self._nuller(pd.Series(np.random.choice(self.classes, length, p=self.rates), name=self.name))\n",
    "    \n",
    "    \n",
    "    \n",
    "class NumericalCategorical(Categorical):\n",
    "    def __init__(self, name, classes=2, fillrate=1, rates=None):\n",
    "        if isinstance(classes, int):\n",
    "            classes = np.arange(2)\n",
    "        super().__init__(name, classes, fillrate, rates)\n",
    "\n",
    "\n",
    "class StringCategorical(Categorical):\n",
    "    def __init__(self, name, classes=2, fillrate=1, rates=None):\n",
    "        if isinstance(classes, int):\n",
    "            fake = Faker()\n",
    "            classes = [fake.pystr(max_chars=5) for i in range(classes)]\n",
    "\n",
    "        super().__init__(name, classes, fillrate, rates)"
   ]
  },
  {
   "cell_type": "code",
   "execution_count": 141,
   "id": "latin-participant",
   "metadata": {},
   "outputs": [],
   "source": [
    "n1 = Numerical(\"foo\", fillrate=0.9)\n",
    "n2 = Numerical(\"bar\", fillrate=0.9)"
   ]
  },
  {
   "cell_type": "code",
   "execution_count": 142,
   "id": "junior-bolivia",
   "metadata": {},
   "outputs": [
    {
     "name": "stdout",
     "output_type": "stream",
     "text": [
      "[0, 1]\n"
     ]
    },
    {
     "data": {
      "text/plain": [
       "0    1\n",
       "1    0\n",
       "2    1\n",
       "3    0\n",
       "4    1\n",
       "5    0\n",
       "6    0\n",
       "7    0\n",
       "8    1\n",
       "9    1\n",
       "Name: foo, dtype: int64"
      ]
     },
     "execution_count": 142,
     "metadata": {},
     "output_type": "execute_result"
    }
   ],
   "source": [
    "Categorical(\"foo\", classes=[0, 1]).generate(10)"
   ]
  },
  {
   "cell_type": "code",
   "execution_count": 143,
   "id": "african-tuning",
   "metadata": {},
   "outputs": [
    {
     "name": "stdout",
     "output_type": "stream",
     "text": [
      "[0 1]\n"
     ]
    },
    {
     "data": {
      "text/plain": [
       "0    0\n",
       "1    1\n",
       "2    0\n",
       "3    1\n",
       "4    0\n",
       "5    1\n",
       "6    0\n",
       "7    1\n",
       "8    1\n",
       "9    1\n",
       "Name: foo, dtype: int64"
      ]
     },
     "execution_count": 143,
     "metadata": {},
     "output_type": "execute_result"
    }
   ],
   "source": [
    "NumericalCategorical(\"foo\").generate(10)"
   ]
  },
  {
   "cell_type": "code",
   "execution_count": 144,
   "id": "dependent-commercial",
   "metadata": {},
   "outputs": [
    {
     "name": "stdout",
     "output_type": "stream",
     "text": [
      "['yiEII', 'cQMDR']\n"
     ]
    },
    {
     "data": {
      "text/plain": [
       "0    cQMDR\n",
       "1    yiEII\n",
       "2    yiEII\n",
       "3    yiEII\n",
       "4    cQMDR\n",
       "5    cQMDR\n",
       "6    cQMDR\n",
       "7    cQMDR\n",
       "8    cQMDR\n",
       "9    yiEII\n",
       "Name: bar, dtype: object"
      ]
     },
     "execution_count": 144,
     "metadata": {},
     "output_type": "execute_result"
    }
   ],
   "source": [
    "StringCategorical(\"bar\").generate(10)"
   ]
  },
  {
   "cell_type": "code",
   "execution_count": 79,
   "id": "amazing-avenue",
   "metadata": {},
   "outputs": [],
   "source": [
    "out = n1 * n2"
   ]
  },
  {
   "cell_type": "code",
   "execution_count": 80,
   "id": "dominican-picking",
   "metadata": {},
   "outputs": [
    {
     "data": {
      "text/plain": [
       "0.8"
      ]
     },
     "execution_count": 80,
     "metadata": {},
     "output_type": "execute_result"
    }
   ],
   "source": [
    "out.value.notna().mean()"
   ]
  },
  {
   "cell_type": "code",
   "execution_count": 81,
   "id": "encouraging-motion",
   "metadata": {},
   "outputs": [
    {
     "data": {
      "text/plain": [
       "0         NaN\n",
       "1         NaN\n",
       "2         NaN\n",
       "3         NaN\n",
       "4    0.650986\n",
       "5         NaN\n",
       "6         NaN\n",
       "7    0.478742\n",
       "8         NaN\n",
       "9         NaN\n",
       "Name: foo, dtype: float64"
      ]
     },
     "execution_count": 81,
     "metadata": {},
     "output_type": "execute_result"
    }
   ],
   "source": [
    "Numerical(\"foo\", fillrate=0.2).generate(10)"
   ]
  },
  {
   "cell_type": "code",
   "execution_count": 82,
   "id": "developmental-offering",
   "metadata": {},
   "outputs": [
    {
     "data": {
      "text/plain": [
       "0    NaN\n",
       "1    dog\n",
       "2    NaN\n",
       "3    NaN\n",
       "4    NaN\n",
       "5    NaN\n",
       "6    cat\n",
       "7    NaN\n",
       "8    NaN\n",
       "9    NaN\n",
       "Name: bar, dtype: object"
      ]
     },
     "execution_count": 82,
     "metadata": {},
     "output_type": "execute_result"
    }
   ],
   "source": [
    "Categorical(\"bar\", classes=[\"cat\", \"dog\"], fillrate=0.2).generate(10)"
   ]
  },
  {
   "cell_type": "code",
   "execution_count": 151,
   "id": "rental-showcase",
   "metadata": {},
   "outputs": [],
   "source": [
    "def make_fake_df(columns, length):\n",
    "    return pd.concat([n.generate(length) for n in columns], axis=1)\n",
    "\n",
    "def make_ml_df(length, num_numerical=3, num_categorical=0, target=\"regression\"):\n",
    "        numerics = [Numerical(f\"col{n}\") for n in range(num_numerical)]\n",
    "        categorics = [StringCategorical(f\"col{n}\") for n in range(num_numerical, num_numerical+num_categorical)]\n",
    "        columns = numerics + categorics\n",
    "        if target == \"regression\":\n",
    "            columns.append(Numerical(f\"target\"))\n",
    "        elif target == \"binary\":\n",
    "            columns.append(NumericalCategorical(f\"target\", classes=2))\n",
    "        else:\n",
    "            print(\"No target\")\n",
    "\n",
    "        return pd.concat([n.generate(length) for n in columns], axis=1)\n"
   ]
  },
  {
   "cell_type": "code",
   "execution_count": 152,
   "id": "featured-reservation",
   "metadata": {},
   "outputs": [
    {
     "data": {
      "text/html": [
       "<div>\n",
       "<style scoped>\n",
       "    .dataframe tbody tr th:only-of-type {\n",
       "        vertical-align: middle;\n",
       "    }\n",
       "\n",
       "    .dataframe tbody tr th {\n",
       "        vertical-align: top;\n",
       "    }\n",
       "\n",
       "    .dataframe thead th {\n",
       "        text-align: right;\n",
       "    }\n",
       "</style>\n",
       "<table border=\"1\" class=\"dataframe\">\n",
       "  <thead>\n",
       "    <tr style=\"text-align: right;\">\n",
       "      <th></th>\n",
       "      <th>col0</th>\n",
       "      <th>col1</th>\n",
       "      <th>col2</th>\n",
       "      <th>col3</th>\n",
       "      <th>target</th>\n",
       "    </tr>\n",
       "  </thead>\n",
       "  <tbody>\n",
       "    <tr>\n",
       "      <th>0</th>\n",
       "      <td>1.166716</td>\n",
       "      <td>0.165018</td>\n",
       "      <td>-0.372199</td>\n",
       "      <td>CadWP</td>\n",
       "      <td>-0.277651</td>\n",
       "    </tr>\n",
       "    <tr>\n",
       "      <th>1</th>\n",
       "      <td>-0.371489</td>\n",
       "      <td>-0.272256</td>\n",
       "      <td>0.829776</td>\n",
       "      <td>CadWP</td>\n",
       "      <td>1.144330</td>\n",
       "    </tr>\n",
       "    <tr>\n",
       "      <th>2</th>\n",
       "      <td>0.205692</td>\n",
       "      <td>0.116641</td>\n",
       "      <td>-1.160677</td>\n",
       "      <td>CadWP</td>\n",
       "      <td>-0.161559</td>\n",
       "    </tr>\n",
       "    <tr>\n",
       "      <th>3</th>\n",
       "      <td>-0.168146</td>\n",
       "      <td>-0.206963</td>\n",
       "      <td>0.102786</td>\n",
       "      <td>CadWP</td>\n",
       "      <td>-1.093907</td>\n",
       "    </tr>\n",
       "    <tr>\n",
       "      <th>4</th>\n",
       "      <td>-1.381588</td>\n",
       "      <td>-0.098769</td>\n",
       "      <td>0.071964</td>\n",
       "      <td>CadWP</td>\n",
       "      <td>-0.657218</td>\n",
       "    </tr>\n",
       "    <tr>\n",
       "      <th>5</th>\n",
       "      <td>1.725209</td>\n",
       "      <td>1.547574</td>\n",
       "      <td>-1.155772</td>\n",
       "      <td>CadWP</td>\n",
       "      <td>0.096041</td>\n",
       "    </tr>\n",
       "    <tr>\n",
       "      <th>6</th>\n",
       "      <td>-1.232182</td>\n",
       "      <td>-0.626387</td>\n",
       "      <td>-0.941681</td>\n",
       "      <td>CadWP</td>\n",
       "      <td>-0.572916</td>\n",
       "    </tr>\n",
       "    <tr>\n",
       "      <th>7</th>\n",
       "      <td>0.980313</td>\n",
       "      <td>0.116887</td>\n",
       "      <td>0.084984</td>\n",
       "      <td>wuVDs</td>\n",
       "      <td>0.354939</td>\n",
       "    </tr>\n",
       "    <tr>\n",
       "      <th>8</th>\n",
       "      <td>0.138823</td>\n",
       "      <td>0.767381</td>\n",
       "      <td>-1.186398</td>\n",
       "      <td>wuVDs</td>\n",
       "      <td>-0.878667</td>\n",
       "    </tr>\n",
       "    <tr>\n",
       "      <th>9</th>\n",
       "      <td>1.245420</td>\n",
       "      <td>1.470808</td>\n",
       "      <td>1.168506</td>\n",
       "      <td>CadWP</td>\n",
       "      <td>-0.061453</td>\n",
       "    </tr>\n",
       "  </tbody>\n",
       "</table>\n",
       "</div>"
      ],
      "text/plain": [
       "       col0      col1      col2   col3    target\n",
       "0  1.166716  0.165018 -0.372199  CadWP -0.277651\n",
       "1 -0.371489 -0.272256  0.829776  CadWP  1.144330\n",
       "2  0.205692  0.116641 -1.160677  CadWP -0.161559\n",
       "3 -0.168146 -0.206963  0.102786  CadWP -1.093907\n",
       "4 -1.381588 -0.098769  0.071964  CadWP -0.657218\n",
       "5  1.725209  1.547574 -1.155772  CadWP  0.096041\n",
       "6 -1.232182 -0.626387 -0.941681  CadWP -0.572916\n",
       "7  0.980313  0.116887  0.084984  wuVDs  0.354939\n",
       "8  0.138823  0.767381 -1.186398  wuVDs -0.878667\n",
       "9  1.245420  1.470808  1.168506  CadWP -0.061453"
      ]
     },
     "execution_count": 152,
     "metadata": {},
     "output_type": "execute_result"
    }
   ],
   "source": [
    "make_ml_df(10, num_categorical=1)"
   ]
  },
  {
   "cell_type": "code",
   "execution_count": 153,
   "id": "norwegian-pasta",
   "metadata": {},
   "outputs": [
    {
     "data": {
      "text/html": [
       "<div>\n",
       "<style scoped>\n",
       "    .dataframe tbody tr th:only-of-type {\n",
       "        vertical-align: middle;\n",
       "    }\n",
       "\n",
       "    .dataframe tbody tr th {\n",
       "        vertical-align: top;\n",
       "    }\n",
       "\n",
       "    .dataframe thead th {\n",
       "        text-align: right;\n",
       "    }\n",
       "</style>\n",
       "<table border=\"1\" class=\"dataframe\">\n",
       "  <thead>\n",
       "    <tr style=\"text-align: right;\">\n",
       "      <th></th>\n",
       "      <th>col0</th>\n",
       "      <th>col1</th>\n",
       "      <th>col2</th>\n",
       "      <th>col3</th>\n",
       "      <th>target</th>\n",
       "    </tr>\n",
       "  </thead>\n",
       "  <tbody>\n",
       "    <tr>\n",
       "      <th>0</th>\n",
       "      <td>0.692361</td>\n",
       "      <td>1.808478</td>\n",
       "      <td>2.441017</td>\n",
       "      <td>Lpowc</td>\n",
       "      <td>0</td>\n",
       "    </tr>\n",
       "    <tr>\n",
       "      <th>1</th>\n",
       "      <td>1.062888</td>\n",
       "      <td>-1.045956</td>\n",
       "      <td>0.531568</td>\n",
       "      <td>Lpowc</td>\n",
       "      <td>0</td>\n",
       "    </tr>\n",
       "    <tr>\n",
       "      <th>2</th>\n",
       "      <td>-0.749478</td>\n",
       "      <td>-0.283598</td>\n",
       "      <td>0.598761</td>\n",
       "      <td>Lpowc</td>\n",
       "      <td>1</td>\n",
       "    </tr>\n",
       "    <tr>\n",
       "      <th>3</th>\n",
       "      <td>0.067989</td>\n",
       "      <td>-1.484349</td>\n",
       "      <td>0.529063</td>\n",
       "      <td>Lpowc</td>\n",
       "      <td>1</td>\n",
       "    </tr>\n",
       "    <tr>\n",
       "      <th>4</th>\n",
       "      <td>0.748349</td>\n",
       "      <td>-1.199722</td>\n",
       "      <td>0.282610</td>\n",
       "      <td>Lpowc</td>\n",
       "      <td>0</td>\n",
       "    </tr>\n",
       "    <tr>\n",
       "      <th>5</th>\n",
       "      <td>2.220727</td>\n",
       "      <td>-0.870024</td>\n",
       "      <td>0.534309</td>\n",
       "      <td>Lpowc</td>\n",
       "      <td>1</td>\n",
       "    </tr>\n",
       "    <tr>\n",
       "      <th>6</th>\n",
       "      <td>-1.801828</td>\n",
       "      <td>0.308892</td>\n",
       "      <td>0.959539</td>\n",
       "      <td>Lpowc</td>\n",
       "      <td>0</td>\n",
       "    </tr>\n",
       "    <tr>\n",
       "      <th>7</th>\n",
       "      <td>0.949607</td>\n",
       "      <td>-0.429758</td>\n",
       "      <td>-1.160111</td>\n",
       "      <td>iItHQ</td>\n",
       "      <td>1</td>\n",
       "    </tr>\n",
       "    <tr>\n",
       "      <th>8</th>\n",
       "      <td>-0.153457</td>\n",
       "      <td>0.287677</td>\n",
       "      <td>1.515233</td>\n",
       "      <td>Lpowc</td>\n",
       "      <td>1</td>\n",
       "    </tr>\n",
       "    <tr>\n",
       "      <th>9</th>\n",
       "      <td>-0.135892</td>\n",
       "      <td>0.479812</td>\n",
       "      <td>0.039241</td>\n",
       "      <td>Lpowc</td>\n",
       "      <td>1</td>\n",
       "    </tr>\n",
       "  </tbody>\n",
       "</table>\n",
       "</div>"
      ],
      "text/plain": [
       "       col0      col1      col2   col3  target\n",
       "0  0.692361  1.808478  2.441017  Lpowc       0\n",
       "1  1.062888 -1.045956  0.531568  Lpowc       0\n",
       "2 -0.749478 -0.283598  0.598761  Lpowc       1\n",
       "3  0.067989 -1.484349  0.529063  Lpowc       1\n",
       "4  0.748349 -1.199722  0.282610  Lpowc       0\n",
       "5  2.220727 -0.870024  0.534309  Lpowc       1\n",
       "6 -1.801828  0.308892  0.959539  Lpowc       0\n",
       "7  0.949607 -0.429758 -1.160111  iItHQ       1\n",
       "8 -0.153457  0.287677  1.515233  Lpowc       1\n",
       "9 -0.135892  0.479812  0.039241  Lpowc       1"
      ]
     },
     "execution_count": 153,
     "metadata": {},
     "output_type": "execute_result"
    }
   ],
   "source": [
    "make_ml_df(10, num_categorical=1, target=\"binary\")"
   ]
  },
  {
   "cell_type": "code",
   "execution_count": 191,
   "id": "dimensional-senator",
   "metadata": {},
   "outputs": [
    {
     "data": {
      "text/html": [
       "<div>\n",
       "<style scoped>\n",
       "    .dataframe tbody tr th:only-of-type {\n",
       "        vertical-align: middle;\n",
       "    }\n",
       "\n",
       "    .dataframe tbody tr th {\n",
       "        vertical-align: top;\n",
       "    }\n",
       "\n",
       "    .dataframe thead th {\n",
       "        text-align: right;\n",
       "    }\n",
       "</style>\n",
       "<table border=\"1\" class=\"dataframe\">\n",
       "  <thead>\n",
       "    <tr style=\"text-align: right;\">\n",
       "      <th></th>\n",
       "      <th>col1</th>\n",
       "      <th>col2</th>\n",
       "    </tr>\n",
       "  </thead>\n",
       "  <tbody>\n",
       "    <tr>\n",
       "      <th>0</th>\n",
       "      <td>0.441950</td>\n",
       "      <td>-0.570931</td>\n",
       "    </tr>\n",
       "    <tr>\n",
       "      <th>1</th>\n",
       "      <td>0.334847</td>\n",
       "      <td>1.810529</td>\n",
       "    </tr>\n",
       "    <tr>\n",
       "      <th>2</th>\n",
       "      <td>0.023267</td>\n",
       "      <td>0.000408</td>\n",
       "    </tr>\n",
       "    <tr>\n",
       "      <th>3</th>\n",
       "      <td>0.244626</td>\n",
       "      <td>-1.182621</td>\n",
       "    </tr>\n",
       "    <tr>\n",
       "      <th>4</th>\n",
       "      <td>-0.637790</td>\n",
       "      <td>0.524023</td>\n",
       "    </tr>\n",
       "    <tr>\n",
       "      <th>5</th>\n",
       "      <td>0.727407</td>\n",
       "      <td>-1.065066</td>\n",
       "    </tr>\n",
       "    <tr>\n",
       "      <th>6</th>\n",
       "      <td>-1.506381</td>\n",
       "      <td>-1.275591</td>\n",
       "    </tr>\n",
       "    <tr>\n",
       "      <th>7</th>\n",
       "      <td>-0.701288</td>\n",
       "      <td>0.962239</td>\n",
       "    </tr>\n",
       "    <tr>\n",
       "      <th>8</th>\n",
       "      <td>0.043097</td>\n",
       "      <td>-0.318712</td>\n",
       "    </tr>\n",
       "    <tr>\n",
       "      <th>9</th>\n",
       "      <td>-0.143329</td>\n",
       "      <td>-0.578753</td>\n",
       "    </tr>\n",
       "  </tbody>\n",
       "</table>\n",
       "</div>"
      ],
      "text/plain": [
       "       col1      col2\n",
       "0  0.441950 -0.570931\n",
       "1  0.334847  1.810529\n",
       "2  0.023267  0.000408\n",
       "3  0.244626 -1.182621\n",
       "4 -0.637790  0.524023\n",
       "5  0.727407 -1.065066\n",
       "6 -1.506381 -1.275591\n",
       "7 -0.701288  0.962239\n",
       "8  0.043097 -0.318712\n",
       "9 -0.143329 -0.578753"
      ]
     },
     "execution_count": 191,
     "metadata": {},
     "output_type": "execute_result"
    }
   ],
   "source": [
    "make_fake_df([Numerical(\"col1\"), Numerical(\"col2\")], 10)"
   ]
  }
 ],
 "metadata": {
  "kernelspec": {
   "display_name": "Python 3",
   "language": "python",
   "name": "python3"
  },
  "language_info": {
   "codemirror_mode": {
    "name": "ipython",
    "version": 3
   },
   "file_extension": ".py",
   "mimetype": "text/x-python",
   "name": "python",
   "nbconvert_exporter": "python",
   "pygments_lexer": "ipython3",
   "version": "3.8.5"
  }
 },
 "nbformat": 4,
 "nbformat_minor": 5
}
